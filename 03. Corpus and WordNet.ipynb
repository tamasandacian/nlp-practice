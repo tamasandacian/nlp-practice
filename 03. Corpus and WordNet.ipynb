{
 "cells": [
  {
   "cell_type": "markdown",
   "metadata": {},
   "source": [
    "# Corpus and WordNet"
   ]
  },
  {
   "cell_type": "markdown",
   "metadata": {},
   "source": [
    "In this part of the study we will cover the following:\n",
    "- introduction to various useful textual corpora available with NLTK\n",
    "- accessing in-built corpora from Python\n",
    "- working with frequency distributions\n",
    "- introduction to WordNet and its lexical features"
   ]
  },
  {
   "cell_type": "markdown",
   "metadata": {},
   "source": [
    "# 1. Accessing in-built corpora"
   ]
  },
  {
   "cell_type": "markdown",
   "metadata": {},
   "source": [
    "Four this exercise we will take a look into one of the in-built corpus from NLTK namely reuters corpus."
   ]
  },
  {
   "cell_type": "code",
   "execution_count": 2,
   "metadata": {},
   "outputs": [],
   "source": [
    "# import required libraries\n",
    "from nltk.corpus import reuters"
   ]
  },
  {
   "cell_type": "code",
   "execution_count": 5,
   "metadata": {},
   "outputs": [
    {
     "name": "stdout",
     "output_type": "stream",
     "text": [
      "[nltk_data] Downloading package reuters to /home/dacy/nltk_data...\n"
     ]
    },
    {
     "data": {
      "text/plain": [
       "True"
      ]
     },
     "execution_count": 5,
     "metadata": {},
     "output_type": "execute_result"
    }
   ],
   "source": [
    "# download reuters package\n",
    "import nltk\n",
    "nltk.download('reuters')"
   ]
  },
  {
   "cell_type": "code",
   "execution_count": 7,
   "metadata": {},
   "outputs": [
    {
     "data": {
      "text/plain": [
       "['test/14826',\n",
       " 'test/14828',\n",
       " 'test/14829',\n",
       " 'test/14832',\n",
       " 'test/14833',\n",
       " 'test/14839',\n",
       " 'test/14840',\n",
       " 'test/14841',\n",
       " 'test/14842',\n",
       " 'test/14843',\n",
       " 'test/14844',\n",
       " 'test/14849',\n",
       " 'test/14852',\n",
       " 'test/14854',\n",
       " 'test/14858',\n",
       " 'test/14859',\n",
       " 'test/14860',\n",
       " 'test/14861',\n",
       " 'test/14862',\n",
       " 'test/14863']"
      ]
     },
     "execution_count": 7,
     "metadata": {},
     "output_type": "execute_result"
    }
   ],
   "source": [
    "# next, we want to check what exactly is available in this corpus\n",
    "files = reuters.fileids()\n",
    "files[:20]"
   ]
  },
  {
   "cell_type": "markdown",
   "metadata": {},
   "source": [
    "We can see that reuters corpus consist of train and test data which are lists of files and the relative paths of each of them in the reuters corpus."
   ]
  },
  {
   "cell_type": "code",
   "execution_count": 8,
   "metadata": {},
   "outputs": [],
   "source": [
    "# next, we access te actual content on any of these files e.g test/16097\n",
    "# to do this we use words() function on the corpus object \n",
    "words16097 = reuters.words(['test/16097'])"
   ]
  },
  {
   "cell_type": "code",
   "execution_count": 9,
   "metadata": {},
   "outputs": [
    {
     "data": {
      "text/plain": [
       "['UGANDA', 'PULLS', 'OUT', 'OF', 'COFFEE', 'MARKET', '-']"
      ]
     },
     "execution_count": 9,
     "metadata": {},
     "output_type": "execute_result"
    }
   ],
   "source": [
    "# print the first entries\n",
    "words16097[:7]"
   ]
  },
  {
   "cell_type": "code",
   "execution_count": 11,
   "metadata": {},
   "outputs": [
    {
     "data": {
      "text/plain": [
       "['UGANDA',\n",
       " 'PULLS',\n",
       " 'OUT',\n",
       " 'OF',\n",
       " 'COFFEE',\n",
       " 'MARKET',\n",
       " '-',\n",
       " 'TRADE',\n",
       " 'SOURCES',\n",
       " 'Uganda',\n",
       " \"'\",\n",
       " 's',\n",
       " 'Coffee',\n",
       " 'Marketing',\n",
       " 'Board',\n",
       " '(',\n",
       " 'CMB',\n",
       " ')',\n",
       " 'has',\n",
       " 'stopped']"
      ]
     },
     "execution_count": 11,
     "metadata": {},
     "output_type": "execute_result"
    }
   ],
   "source": [
    "# next, to access a specific number of words(20) from the same file\n",
    "words20 = reuters.words(['test/16097'])[:20]\n",
    "words20"
   ]
  },
  {
   "cell_type": "markdown",
   "metadata": {},
   "source": [
    "The reuters corpus is not just a list but also hierarhically categorized into 90 topics where each topic has many files associated with it. \n",
    "\n",
    "Therefore, when accessing one of these topics, we are actually accessing all of the files associated with that topic."
   ]
  },
  {
   "cell_type": "code",
   "execution_count": 12,
   "metadata": {},
   "outputs": [
    {
     "data": {
      "text/plain": [
       "['acq',\n",
       " 'alum',\n",
       " 'barley',\n",
       " 'bop',\n",
       " 'carcass',\n",
       " 'castor-oil',\n",
       " 'cocoa',\n",
       " 'coconut',\n",
       " 'coconut-oil',\n",
       " 'coffee',\n",
       " 'copper',\n",
       " 'copra-cake',\n",
       " 'corn',\n",
       " 'cotton',\n",
       " 'cotton-oil',\n",
       " 'cpi',\n",
       " 'cpu',\n",
       " 'crude',\n",
       " 'dfl',\n",
       " 'dlr',\n",
       " 'dmk',\n",
       " 'earn',\n",
       " 'fuel',\n",
       " 'gas',\n",
       " 'gnp',\n",
       " 'gold',\n",
       " 'grain',\n",
       " 'groundnut',\n",
       " 'groundnut-oil',\n",
       " 'heat',\n",
       " 'hog',\n",
       " 'housing',\n",
       " 'income',\n",
       " 'instal-debt',\n",
       " 'interest',\n",
       " 'ipi',\n",
       " 'iron-steel',\n",
       " 'jet',\n",
       " 'jobs',\n",
       " 'l-cattle',\n",
       " 'lead',\n",
       " 'lei',\n",
       " 'lin-oil',\n",
       " 'livestock',\n",
       " 'lumber',\n",
       " 'meal-feed',\n",
       " 'money-fx',\n",
       " 'money-supply',\n",
       " 'naphtha',\n",
       " 'nat-gas',\n",
       " 'nickel',\n",
       " 'nkr',\n",
       " 'nzdlr',\n",
       " 'oat',\n",
       " 'oilseed',\n",
       " 'orange',\n",
       " 'palladium',\n",
       " 'palm-oil',\n",
       " 'palmkernel',\n",
       " 'pet-chem',\n",
       " 'platinum',\n",
       " 'potato',\n",
       " 'propane',\n",
       " 'rand',\n",
       " 'rape-oil',\n",
       " 'rapeseed',\n",
       " 'reserves',\n",
       " 'retail',\n",
       " 'rice',\n",
       " 'rubber',\n",
       " 'rye',\n",
       " 'ship',\n",
       " 'silver',\n",
       " 'sorghum',\n",
       " 'soy-meal',\n",
       " 'soy-oil',\n",
       " 'soybean',\n",
       " 'strategic-metal',\n",
       " 'sugar',\n",
       " 'sun-meal',\n",
       " 'sun-oil',\n",
       " 'sunseed',\n",
       " 'tea',\n",
       " 'tin',\n",
       " 'trade',\n",
       " 'veg-oil',\n",
       " 'wheat',\n",
       " 'wpi',\n",
       " 'yen',\n",
       " 'zinc']"
      ]
     },
     "execution_count": 12,
     "metadata": {},
     "output_type": "execute_result"
    }
   ],
   "source": [
    "# check the list of topics\n",
    "reutersGenres = reuters.categories()\n",
    "reutersGenres"
   ]
  },
  {
   "cell_type": "markdown",
   "metadata": {},
   "source": [
    "As we can see, when printing the list of all topics available we'll have displayed 90 categories."
   ]
  },
  {
   "cell_type": "code",
   "execution_count": 21,
   "metadata": {},
   "outputs": [],
   "source": [
    "# access 'bop', 'cocoa' categories and print all words from these 2 categories.\n",
    "# if we encounter '.' we insert a new line\n",
    "\n",
    "#for w in reuters.words(categories=['bop', 'cocoa']):\n",
    "#    print(w+' ', end='')\n",
    "#    if (w is '.'):\n",
    "#        print()"
   ]
  },
  {
   "cell_type": "markdown",
   "metadata": {},
   "source": [
    "# 2. Download an external corpus, load it and access it"
   ]
  },
  {
   "cell_type": "markdown",
   "metadata": {},
   "source": [
    "In this part we will make use of an external corpus namely Cornell CS Movie review corpus which is already labelled for positive and negative reviews and used for training sentiment analysis modules.\n",
    "\n",
    "To download the dataset we'll navigate to the following url: http://www.cs.cornell.edu/peop/pabo/movie%2Dreview%2Ddata/. \n",
    "\n",
    "Since the corpus we have downloaded is already categorized, we will use CategorizedPlaintextCorpusReader from NLTK library to read and load the given corpus."
   ]
  },
  {
   "cell_type": "code",
   "execution_count": 22,
   "metadata": {},
   "outputs": [],
   "source": [
    "# import required libraries\n",
    "from nltk.corpus import CategorizedPlaintextCorpusReader"
   ]
  },
  {
   "cell_type": "code",
   "execution_count": 23,
   "metadata": {},
   "outputs": [],
   "source": [
    "# read Cornel CS Movie corpus\n",
    "reader = CategorizedPlaintextCorpusReader(r'./data/datasets/mix20_rand700_tokens_0211/tokens', \n",
    "                                          r'.*\\.txt', \n",
    "                                          cat_pattern=r'(\\w+)/*')"
   ]
  },
  {
   "cell_type": "code",
   "execution_count": 24,
   "metadata": {},
   "outputs": [
    {
     "data": {
      "text/plain": [
       "['neg', 'pos']"
      ]
     },
     "execution_count": 24,
     "metadata": {},
     "output_type": "execute_result"
    }
   ],
   "source": [
    "# print categories\n",
    "reader.categories()"
   ]
  },
  {
   "cell_type": "code",
   "execution_count": 26,
   "metadata": {},
   "outputs": [
    {
     "data": {
      "text/plain": [
       "['neg/cv000_tok-9611.txt',\n",
       " 'neg/cv001_tok-19324.txt',\n",
       " 'neg/cv002_tok-3321.txt',\n",
       " 'neg/cv003_tok-13044.txt',\n",
       " 'neg/cv004_tok-25944.txt',\n",
       " 'neg/cv005_tok-24602.txt',\n",
       " 'neg/cv006_tok-29539.txt',\n",
       " 'neg/cv007_tok-11669.txt',\n",
       " 'neg/cv008_tok-11555.txt',\n",
       " 'neg/cv009_tok-19587.txt',\n",
       " 'neg/cv010_tok-2188.txt',\n",
       " 'neg/cv011_tok-7845.txt',\n",
       " 'neg/cv012_tok-26965.txt',\n",
       " 'neg/cv013_tok-14854.txt',\n",
       " 'neg/cv014_tok-12391.txt',\n",
       " 'neg/cv015_tok-23730.txt',\n",
       " 'neg/cv016_tok-16970.txt',\n",
       " 'neg/cv017_tok-27221.txt',\n",
       " 'neg/cv017_tok-29801.txt',\n",
       " 'neg/cv018_tok-11502.txt']"
      ]
     },
     "execution_count": 26,
     "metadata": {},
     "output_type": "execute_result"
    }
   ],
   "source": [
    "# check what is available in the corpus\n",
    "reader.fileids()[:20]"
   ]
  },
  {
   "cell_type": "code",
   "execution_count": 29,
   "metadata": {},
   "outputs": [],
   "source": [
    "# create a list that contains samples of both categories 'pos' and 'neg' respectively\n",
    "posFiles = reader.fileids(categories='pos')\n",
    "negFiles = reader.fileids(categories='neg')"
   ]
  },
  {
   "cell_type": "code",
   "execution_count": 30,
   "metadata": {},
   "outputs": [],
   "source": [
    "# select a file randomly from each of the lists of posFiles and negFiles\n",
    "from random import randint\n",
    "fileP = posFiles[randint(0, len(posFiles)-1)]\n",
    "fileN = negFiles[randint(0, len(negFiles)-1)]"
   ]
  },
  {
   "cell_type": "code",
   "execution_count": 32,
   "metadata": {},
   "outputs": [
    {
     "name": "stdout",
     "output_type": "stream",
     "text": [
      "pos/cv401_tok-11239.txt\n",
      "neg/cv217_tok-29465.txt\n"
     ]
    }
   ],
   "source": [
    "# print random file name of each positive and negative\n",
    "print(fileP)\n",
    "print(fileN)"
   ]
  },
  {
   "cell_type": "code",
   "execution_count": 33,
   "metadata": {},
   "outputs": [
    {
     "name": "stdout",
     "output_type": "stream",
     "text": [
      "written by larry ferguson . \n",
      "directed by ringo lam . \n",
      "starring jean - claude van damme and natasha henstridge . \n",
      "rated r ( contains violence , nudity , and profanity ) 101 mins . \n",
      "synopsis : alain , a cop from \" south of france , \" encounters the corpse of his unknown twin brother , assumes his identity , travels to the usa , and meets an annoying cabbie , the russian mafia , crooked fbi agents , and his brother ' s former lover , alex . \n",
      "after surviving car chases , street fights , and near - deaths due to fires , alain becomes nervous when he must introduce alex to his mother . \n",
      "comments : maximum risk ' s opening informs the audience that the scene takes place \" south of france . \n",
      "\" the scene actually takes place in france , the audience finds out , and i ' d imagine the filmmakers probably meant \" southern france . \n",
      "\" why mention this ? because i wanted to point out that one can ' t apply logic to maximum risk and expect it to work . \n",
      "in fact , logic immediately falls apart in this movie . \n",
      "in order to enjoy it , ome must throw logic out the window . \n",
      "this movie , like so many other action movies , is dumb . \n",
      "mindlessly dumb . \n",
      "it competently delivers , however , a lot of action in a slick manner ; therefore , it manages to achieve what the filmmakers set out to achieve . \n",
      "in order to somehow justify one elaborate action sequence after another , an action movie ' s plot must usually be contrived and contain many competing factions . \n",
      "such is the case with maximum risk , which is populated by crooked fbi agents allied with the russian mob , an alluring seductress , a cop who has crossed the line , a cabbie who doesn ' t know better than to stay away from dangerous people , and twins separated at birth , just to name a few . \n",
      "and , i haven ' t even mentioned the plot elements : fires , car chases , chases through crowded streets with screaming pedestrians , lots of guns , a chainsaw , and the obligatory sex scene ( don ' t forget , natasha henstridge , the femme fatale from species , stars in this film ) , amongst others . \n",
      "somehow , with a considerable suspension of disbelief , larry ferguson ' s script manages to make most of these disparate elements work ( occasionally , something is so ridiculously implausible that you have to groan ) . \n",
      "maximum risk basically serves as a vehicle for martial arts star jean - claude van damme , even though natasha henstridge prominently appears on the poster and video box along with him . \n",
      "natasha henstridge , a very capable model - turned - actress , has surprisingly little to work with in this movie . \n",
      "she appears much later in the film than one would expect and basically plays the damsel - in - distress who van damme must frequently save from the bad guys . \n",
      "her role here comes as a surprise considering the other movies she ' s been in to date . \n",
      "( she played a tough cop in the awful adrenalin : fear the rush and a tougher , dangerous seductress in species . \n",
      ") those who are familiar with her \" revealing \" species character , though , won ' t be surprised to find that she strips off clothing left and right in maximum risk as well . \n",
      "she looks like nice in a beret too ! the main star , however , is indeed van damme , and this movie features van damme fighting , kicking , punching , and bleeding like he does in every other movie he ' s been in . \n",
      "the fights and the stuntwork are the true stars of the movie , of course , and they ' re delivered frequently and entertainingly . \n",
      "occasionally , the violence is slightly uncomfortable ( in one scene , alain slowly twists a bad guy ' s hand which snaps when it breaks ) and thus resembles steven seagal ' s oftentimes disturbingly violent sequences . \n",
      "for the most part , however , the action is cartoonish enough to seem too unreal to be sensitive to . \n",
      "even if one were to excuse a number of faults due to its being an action movie , maximum risk still isn ' t perfect . \n",
      "for one thing , at 101 minutes , it plays too long for an action movie of this nature . \n",
      "about 10 or so minutes of scenes containing unnecessary plot details could have been shaved from the running time . \n",
      "also , larry ferguson , for some reason , tried to inject blatant humor , unsuccessfully , into the mix by introducing an annoying cabbie with aspirations to be a novelist . \n",
      "this character ' s lines aren ' t cute or humorous ( even alain tells him to \" shut up \" ) , and the audience is left feeling relieved rather than angry when he is killed by the bad guys . \n",
      "despite these criticisms , maximum risk still delivers . \n",
      "if you ' re in the mood for a dumb action movie , you ' d be better off risking this film than a number of other turkeys out there in this genre . \n",
      "susan granger ' s review of \" two can play that game \" ( screen gems ) since the success of \" waiting to exhale , \" there have been several romantic comedies about african - american professionals . \n",
      "this female revenge fantasy , vivica a . \n",
      "fox plays shante smith , a stunning ad exec who seems to have reached the pinnacle of success : a mansion , a sporty car and an idyllic relationship with a hunky , hot - shot lawyer , morris chestnut . \n",
      "she ' s at a point in her life when she dispenses advice to her grateful girl - friends ( mo ' nique , wendy racquel robinson , tamala jones ) . \n",
      "\" when your man messes up , no matter how small it is , \" she smugly decrees , \" yuh gots to punish him . \n",
      "\" so when she catches her hot man dancing at a bar with a smart and sexy rival , gabrielle union , she devises her own version of \" the rules , \" a 10 - day \" tough love \" emotionally punishing plan to get him back . \n",
      "unfortunately , writer / director mark brown ( \" how to be a player \" ) breaks the cardinal rule of romantic comedy : you have to like the protagonist - and shrill , self - congratulatory shante smith is a smirking , superficial , spiteful shrew who doesn ' t realize that rational rules cannot always be applied to love . \n",
      "having her talk directly into the camera gets stale very quickly and the \" day one , \" \" day two \" title - card device underscores the tedium . \n",
      "comic anthony anderson scores as chestnut ' s boisterous best - friend , and singer bobby brown does a cameo as a scuzzy mechanic who ' s given a smooth makeover by ms . \n",
      "robinson . \n",
      "but the out - takes over the closing credits contain more humor than the film itself . \n",
      "on the granger movie gauge of 1 to 10 , \" two can play that game \" is smarmy if slick 4 , filled with misogynistic attitude and blatant product placements ( coca - cola , miller genuine draft ) but little else . \n",
      "in this r - rated ( for explicit sexual language ) , pseudo - hip battle of the sexes , the audience loses . \n"
     ]
    }
   ],
   "source": [
    "# access data and print in the console sentence by sentence for each file\n",
    "for w in reader.words(fileP):\n",
    "    print(w+' ', end='')\n",
    "    if (w is '.'):\n",
    "        print()\n",
    "for w in reader.words(fileN):\n",
    "    print(w+' ', end='')\n",
    "    if (w is '.'):\n",
    "        print()"
   ]
  },
  {
   "cell_type": "markdown",
   "metadata": {},
   "source": [
    "# 3. Counting all wh words in three different genres in the Brown corpus"
   ]
  },
  {
   "cell_type": "markdown",
   "metadata": {},
   "source": [
    "In this part we will use FreqDist class from nltk library to count all the words on any given corpus. For this exercise we will make use of Brown corpus."
   ]
  },
  {
   "cell_type": "code",
   "execution_count": 34,
   "metadata": {},
   "outputs": [],
   "source": [
    "# import required libraries\n",
    "import nltk\n",
    "from nltk.corpus import brown"
   ]
  },
  {
   "cell_type": "code",
   "execution_count": 35,
   "metadata": {},
   "outputs": [
    {
     "data": {
      "text/plain": [
       "['adventure',\n",
       " 'belles_lettres',\n",
       " 'editorial',\n",
       " 'fiction',\n",
       " 'government',\n",
       " 'hobbies',\n",
       " 'humor',\n",
       " 'learned',\n",
       " 'lore',\n",
       " 'mystery',\n",
       " 'news',\n",
       " 'religion',\n",
       " 'reviews',\n",
       " 'romance',\n",
       " 'science_fiction']"
      ]
     },
     "execution_count": 35,
     "metadata": {},
     "output_type": "execute_result"
    }
   ],
   "source": [
    "# check all genres and pick three categories from them\n",
    "brown.categories()"
   ]
  },
  {
   "cell_type": "code",
   "execution_count": 36,
   "metadata": {},
   "outputs": [],
   "source": [
    "# pick three categories from brown corpus and whwords\n",
    "genres = ['fiction', 'humor', 'romance']\n",
    "whwords = ['what', 'which', 'how', 'why', 'when', 'where', 'who']"
   ]
  },
  {
   "cell_type": "code",
   "execution_count": 48,
   "metadata": {},
   "outputs": [
    {
     "name": "stdout",
     "output_type": "stream",
     "text": [
      "\n",
      "Analyzing 'fiction' wh words\n",
      "what: 128 which: 123 how: 54 why: 18 when: 133 where: 76 who: 103 \n",
      "Analyzing 'humor' wh words\n",
      "what: 36 which: 62 how: 18 why: 9 when: 52 where: 15 who: 48 \n",
      "Analyzing 'romance' wh words\n",
      "what: 121 which: 104 how: 60 why: 34 when: 126 where: 54 who: 89 "
     ]
    }
   ],
   "source": [
    "# since we have the 'genres' and the words we want to count in lists for this we will use extensively for loop\n",
    "# to iterate over them and optimize the number of lines of code\n",
    "for i in range(0, len(genres)):\n",
    "    genre = genres[i]\n",
    "    print()\n",
    "    print(\"Analyzing '\" + genre + \"' wh words\")\n",
    "    genre_text = brown.words(categories=genre)\n",
    "    # create FreqDist object\n",
    "    fdist = nltk.FreqDist(genre_text)\n",
    "    for wh in whwords:\n",
    "        print(wh + ':', fdist[wh], end=' ')"
   ]
  },
  {
   "cell_type": "markdown",
   "metadata": {},
   "source": [
    "We can clearly see that we have the word count for all seven wh words for the three picked genres. By counting the population of wh words, we can understand if the given text is high on relative clauses or question sentences. However, we can do the count on any word we want to understand the relevance of the given text."
   ]
  },
  {
   "cell_type": "markdown",
   "metadata": {},
   "source": [
    "# 4. Explore frequency distribution operations on one of the web and chat text corpus files"
   ]
  },
  {
   "cell_type": "markdown",
   "metadata": {},
   "source": [
    "In this exercise, we will perfom frequency distribution on the personal web advertising wich is provided by NLTK library, nltk.corpus.webtext. \n",
    "\n",
    "We will explore various functionalities of the nltk.FreqDist object such as the count of distinct words, 10 most common words, maximum-frequency words, frequency distribution plot and tabulation."
   ]
  },
  {
   "cell_type": "code",
   "execution_count": 49,
   "metadata": {},
   "outputs": [],
   "source": [
    "# import required libraries\n",
    "import nltk\n",
    "from nltk.corpus import webtext"
   ]
  },
  {
   "cell_type": "code",
   "execution_count": 50,
   "metadata": {},
   "outputs": [
    {
     "data": {
      "text/plain": [
       "['firefox.txt',\n",
       " 'grail.txt',\n",
       " 'overheard.txt',\n",
       " 'pirates.txt',\n",
       " 'singles.txt',\n",
       " 'wine.txt']"
      ]
     },
     "execution_count": 50,
     "metadata": {},
     "output_type": "execute_result"
    }
   ],
   "source": [
    "# print webtext files\n",
    "webtext.fileids()"
   ]
  },
  {
   "cell_type": "code",
   "execution_count": 51,
   "metadata": {},
   "outputs": [],
   "source": [
    "# next, select the file that contains personal advertisement data and run frequency distribution on it\n",
    "file_id = 'singles.txt'\n",
    "wbt_words = webtext.words(file_id)\n",
    "fdist = nltk.FreqDist(wbt_words)"
   ]
  },
  {
   "cell_type": "code",
   "execution_count": 52,
   "metadata": {},
   "outputs": [
    {
     "name": "stdout",
     "output_type": "stream",
     "text": [
      "Count of the maximum appearing token \" , \" :  539\n"
     ]
    }
   ],
   "source": [
    "# check maximum frequency distribution\n",
    "print('Count of the maximum appearing token \"', fdist.max(), '\" : ', fdist[fdist.max()])"
   ]
  },
  {
   "cell_type": "code",
   "execution_count": 55,
   "metadata": {},
   "outputs": [
    {
     "name": "stdout",
     "output_type": "stream",
     "text": [
      "Total Number of distinct tokens in the bag:  4867\n"
     ]
    }
   ],
   "source": [
    "# count of distinct words in the bag of our frequency distribution using fdist.N() function\n",
    "print('Total Number of distinct tokens in the bag: ', fdist.N())"
   ]
  },
  {
   "cell_type": "code",
   "execution_count": 58,
   "metadata": {},
   "outputs": [
    {
     "name": "stdout",
     "output_type": "stream",
     "text": [
      "Following are the most common 10 words in the bag\n",
      "[(',', 539), ('.', 353), ('/', 110), ('for', 99), ('and', 74), ('to', 74), ('lady', 68), ('-', 66), ('seeks', 60), ('a', 52)]\n"
     ]
    }
   ],
   "source": [
    "# check the 10 most common words in the selected corpus bag\n",
    "print('Following are the most common 10 words in the bag')\n",
    "print(fdist.most_common(10))"
   ]
  },
  {
   "cell_type": "code",
   "execution_count": 59,
   "metadata": {},
   "outputs": [
    {
     "name": "stdout",
     "output_type": "stream",
     "text": [
      "Frequency Distribution on Personal Advertisements\n",
      "             ,              .              /            for            and             to           lady              -          seeks              a           with              S           ship              &   relationship            fun             in           slim          build              o              s              y         smoker             50            non              I         movies           good         honest         dining            out          rship        looking           like            age     attractive            who     friendship             40             45             35        Looking              5           MALE          times           male           meet           life        seeking              r           open            the         female             of           GSOH          enjoy             ''            fit             or           LADY            guy             no             be          music             ft        drinker             30              f           tall       employed         caring         social           Male              N              D          fship      interests             is        genuine         medium          beach          Seeks          likes              n           poss           WLTM         single             yo              A         travel        similar        married           have          quiet           well           home           long          would          walks         nights             at        Seeking             .,        country         enjoys        MARRIED              6              2            40s       children     ATTRACTIVE         secure             up            30s        fishing             60          woman          share       discreet            DTE            man             by             43             an         living             am           Must            med         drives           Lady              +             25         SINGLE           area           term            you           sexy              ?             36            GUY           Late           view             me             55          going         sought           gent        healthy           love            MAN       outdoors              !         loving           prof              :         casual             42             47        sincere         things          young             Im      gentleman      permanent             57        special           ties            FIT         humour           kids             38       possible          Likes            not      Interests           self        suburbs          years          Would             NS             48          Asian           DtoE        outings      gardening          ASIAN             TO          older       friendly            fem        working            old         sports           away   professional           same       generous       European              c             39    financially             on             58            Age           SLIM         CARING             my         person    BUSINESSMAN        outdoor              (          sense       romantic          GREEK          under            mid             ME     Attractive             46        theatre           GENT           easy        welcome            any        Suburbs              F             37            SOH            but          loves            yrs         Aussie              R            ing       meetings           East           subs             32        dancing         attrac     encounters              E            mum           late          great    personality            YOU            new          never        animals              Y              O         dinner          there             11           nice              8           BBQs           aged           size           hair             If          early        outlook           cars            etc         friend        camping            Mid         classy             59         Single       ROMANTIC           TALL           down          earth           many         petite       outgoing      easygoing            Non           time          Fship       weekends            are          being        company            SWM          happy         please          other    intelligent       reliable             OK         family            gen           50yo              d           attr           Good       intimate           wine            6ft             49      presented             52            Guy           into     articulate   conversation             53             65     Friendship          Photo           SEXY            DAD           44yo       OUTGOING             28              w       business          owner        include            all        forward           from          women          ready   AFFECTIONATE            ARE             we           Slim            Med        someone            You     background         Enjoys          cafes         future         Prefer       Adelaide  companionship            AFL           View        fitness        parties     AUSTRALIAN           With          Enjoy          sport            Fun        between       Possible            20s           this           HAIR             Am             TV            ish             56         taller         wining              h           plus     Australian            60s         ACTIVE      EASYGOING          light           lets        GENUINE            AND         HONEST             Hi             44           Love              9            gym           GOOD           blue          looks           AUST          Early             20    independant            50s         retain            her           PICK         active           incl           year        quality          EARLY           Self         Sports          short             ok            OLD         Indian           Dark           Poss           full        replies            ALA         lonely           perm             if           work           Prof       listener    responsible        reading       exciting            sim            int          photo        cooking          house          Woman              1        weekend             so        walking            bch       brunette             My            Pen            Are          inner          Greek             BE        missing        Married         affair             kg           pref   affectionate          loyal        natural            sgl          LOVER           Aust           Subs        Genuine        dinners           LOVE        partner       relation      adventure        COUNTRY            soh        Vibrant    adventurous           very          ABOUT      Easygoing            511       Southern     vegetarian             \",           dark             10     travelling         racing             41             No         normal        DANCING        SEEKING           must             ),          reply          dance          maybe         enough    comfortable            SWF            pls         Social           35YO       Security          Guard        uniform          below            Nat           Open             yr              M           door              e           feet        groomed           arts       Ringwood      surrounds     meaningful        hearing           ABLE          Phone           play         Sought         mutual    fulfillment          ALONE           lost            too           hope          sight          Maybe          could        explore     beginnings       together           high          needs           WONT   disappointed        AMIABLE            170             cm        without            get           chil           dren             29         COPPER        REDHEAD             61         Taurus           Into         AUSSIE          Solid         FATHER            son             re     lationship        coastal           town           Eyre      Peninsula            FUN           meal            com         panion      BEAUTIFUL    INTELLIGENT        MUSICAL            Shy             12         blonde          drink        Guiness           then           want         BLONDE           BLUE           EYES         Medium           golf           bike         riding           DVDs        kissing       cuddling       prepared          boats            .),         modern         CUDDLY           FULL        FIGURED          fully             +.        towards           Give           call           chat         simple       LISTENER           Well       educated           eyes          brown      important            nor       distance          speed       complete        circles           bbqs       football       HANDSOME           Tall       standing          wants        privacy          still   independance        private           HERE             AM            Now           that           your      attention      LIMESTONE          COAST         REGION  sufficiencies   permaculture        smoking           LATE          Music            art    environment       concerts    unimportant        RETIRED           Like        caravan        heading         Darwin            May        driving            one          child          Clare        Barossa         region       northern  understanding         varied     VIETNAMESE          WIDOW    established             UK           born             31             YO        Eastern          blond            bet           YEAR        Working        CENTRAL      VICTORIAN            Dad           teen      daughters        HEALTHY            emp      tradesman            Sri         Lankan          Olive     Complexion          dship            rel         MATURE           Sexy           WELL        DRESSED    emotionally        figured            shy            NRL         nature          Rship           only           Lots        friends          57YRS         suited    Nationality           34yo       tractive         Ladies           poor         career           Have         always      connected           more          Women        TAINING    interesting           46yo           Kind         having          Witty       humorous           comb      beginning          57yrs          177cm        meeting         Please           send      GENTLEMAN           wild             HI            54y            nts     supporting            nat         pamper           roll          hurry             Is          spend          month       Charters         Towers     especially       festival          write            Ref           8826   PROFESSIONAL        amongst      Christian          178cm           79kg          Clean            cut          natur            ist         minded            red             hd       eurasian           Home             70         SOUGHT             BY           Kids             as           Nice    Businessman       ATHLETIC           Morn             SD         Caring          thats           seek         mature         ladies         BRIGHT            Boy          brain           cook       Physique           fair          lunch       converse       Essendon         Bright       positive         LOVING         Female        dressed            rom       elegance         CASUAL        weekday     obligation       EUROPEAN           36yo      encounter           41yo          37yrs         larger     Preferably            nth           LIKE       MISTRESS           YOUR        treated           Bold       precious      available         during            day     appreciate           Lets           Talk              )             LJ             JS      Bayswater             Be           mine             26          South          burly         beared           ston            MID        strings       attached       HANDYMAN            TLC       position             MT          ELIZA       Business           gorg        passion        running            LTR           girl        serious            Man      assertive           kind        stylish            For      Northcote           Call           PROF             68     Mornington        SCORPIO     passionate             95            def           Knox            4WD             Fe             Ok          STERN     HEADMASTER           firm           hand        naughty            Sgl            ave             bi        curious            dad            sub              \"           FAIR           WANT         SPOILT           Warm           38yo          YOUNG          girls             23             YR        attract            uni        student        daytime         FRIEND           find       athletic         cuddly        ATTRACT        younger             18             27           GOSH          busty     curvaceous DISCIPLINARIAN           Euro            Nth           52yo         HARLEY          RIDER         HERPES       JAPANESE              b        widowed           over          North           West             34        travels            lot       personal        trainer            Sth           42yo          olive           skin            dog         thinks             he          human         spoilt     commitment          OLDER           NICE           GUYS           Aged            two        females          night       clubbing            BOY             +,         Harley          rider           semi        retired         LITTLE          MAGIC         little          green           eyed         ABOUND       CAREFREE       creative      executive       flexible          laugh      contrasts          finer       outlooks          YEARS      lifestyle       ADELAIDE          HILLS    ADVENTUROUS      sensitive      travelled           AGED     Interested     basketball        cricket            pin        bowling          SANFL     nightclubs       TERTIARY       Educated             V8          motor       EMPLOYED         haired       strictly          hours           near           City           EASY          GOING    Intelligent       exercise          daily    trustworthy      integrity         morals       Children       BALLROOM        PARTNER             Me       slimmish          after          again           than          avoid  complications     unattached           CITY           GIRL          SEEKS        ROMANCE         farmer           land          clean         shaven         strong         values          Other        callers             DO          DANCE           Rock           Roll        leading            510        western       southern            5ft          large      nonsmoker         mother             15            boy          Lives             NE         FEISTY           FOXY          YUMMY     GRANDMUMMY       laughter          least           just          watch      fanatical          bonus         GARDEN             62      entertain           lead              4           VERY             54           hugs         kisses          those        tingles           when          click          lover        Amongst          river           real          WOMAN             OF      SUBSTANCE        elegant      preserved           sgle         Prince       Charming         Living           city         filled       glorious        sunsets    candlelight           fine        romance           true          YORKE      PENINSULA            70s     pleasingly          plump      luncheons          cards         indoor          bowls       marriage           Melb           43YO            car           48YO           54yo      companion             go          Could        hearted        classes          about           some     experience       Ballroom           Jive             51         sedate    appreciated             63           genu            ine       possibly      religious         horses           dogs           food        beaches           fish           Gent         dating            fin         lovely            Fem      activites           read           40yo            Mum    judgemental           45yo           danc        general     themselves           Only      enquiries  ABBREVIATIONS          Sense            All        letters       answered           Down          Earth           DONT         FORGET             ..            Its           FREE      advertise        Perfect          Match \n",
      "           539            353            110             99             74             74             68             66             60             52             44             36             33             30             29             28             27             27             27             26             24             23             23             23             22             22             22             21             20             19             19             18             18             18             17             17             17             17             16             16             16             16             16             15             15             15             15             15             14             14             14             14             14             14             14             14             14             14             13             13             13             13             13             13             13             13             13             13             12             12             12             12             12             12             12             11             11             11             11             11             11             11             11             11             11             11             10             10             10             10             10             10             10             10              9              9              9              9              9              9              9              9              9              9              9              9              8              8              8              8              8              8              8              8              8              8              8              8              7              7              7              7              7              7              7              7              7              7              7              7              7              6              6              6              6              6              6              6              6              6              6              6              6              6              6              6              6              6              6              6              6              6              6              6              6              6              6              6              5              5              5              5              5              5              5              5              5              5              5              5              5              5              5              5              5              5              5              5              5              5              5              5              5              5              5              5              5              4              4              4              4              4              4              4              4              4              4              4              4              4              4              4              4              4              4              4              4              4              4              4              4              4              4              4              4              4              4              4              4              4              4              4              4              4              4              4              4              4              4              4              4              4              4              4              4              4              4              4              4              3              3              3              3              3              3              3              3              3              3              3              3              3              3              3              3              3              3              3              3              3              3              3              3              3              3              3              3              3              3              3              3              3              3              3              3              3              3              3              3              3              3              3              3              3              3              3              3              3              3              3              3              3              3              3              3              3              3              3              3              3              3              3              3              3              3              3              3              3              3              3              3              3              3              3              2              2              2              2              2              2              2              2              2              2              2              2              2              2              2              2              2              2              2              2              2              2              2              2              2              2              2              2              2              2              2              2              2              2              2              2              2              2              2              2              2              2              2              2              2              2              2              2              2              2              2              2              2              2              2              2              2              2              2              2              2              2              2              2              2              2              2              2              2              2              2              2              2              2              2              2              2              2              2              2              2              2              2              2              2              2              2              2              2              2              2              2              2              2              2              2              2              2              2              2              2              2              2              2              2              2              2              2              2              2              2              2              2              2              2              2              2              2              2              2              2              2              2              2              2              2              2              2              2              2              2              2              2              2              2              2              2              2              2              2              2              2              2              2              2              2              2              2              2              2              2              2              2              2              2              2              2              2              2              2              2              2              2              2              2              2              1              1              1              1              1              1              1              1              1              1              1              1              1              1              1              1              1              1              1              1              1              1              1              1              1              1              1              1              1              1              1              1              1              1              1              1              1              1              1              1              1              1              1              1              1              1              1              1              1              1              1              1              1              1              1              1              1              1              1              1              1              1              1              1              1              1              1              1              1              1              1              1              1              1              1              1              1              1              1              1              1              1              1              1              1              1              1              1              1              1              1              1              1              1              1              1              1              1              1              1              1              1              1              1              1              1              1              1              1              1              1              1              1              1              1              1              1              1              1              1              1              1              1              1              1              1              1              1              1              1              1              1              1              1              1              1              1              1              1              1              1              1              1              1              1              1              1              1              1              1              1              1              1              1              1              1              1              1              1              1              1              1              1              1              1              1              1              1              1              1              1              1              1              1              1              1              1              1              1              1              1              1              1              1              1              1              1              1              1              1              1              1              1              1              1              1              1              1              1              1              1              1              1              1              1              1              1              1              1              1              1              1              1              1              1              1              1              1              1              1              1              1              1              1              1              1              1              1              1              1              1              1              1              1              1              1              1              1              1              1              1              1              1              1              1              1              1              1              1              1              1              1              1              1              1              1              1              1              1              1              1              1              1              1              1              1              1              1              1              1              1              1              1              1              1              1              1              1              1              1              1              1              1              1              1              1              1              1              1              1              1              1              1              1              1              1              1              1              1              1              1              1              1              1              1              1              1              1              1              1              1              1              1              1              1              1              1              1              1              1              1              1              1              1              1              1              1              1              1              1              1              1              1              1              1              1              1              1              1              1              1              1              1              1              1              1              1              1              1              1              1              1              1              1              1              1              1              1              1              1              1              1              1              1              1              1              1              1              1              1              1              1              1              1              1              1              1              1              1              1              1              1              1              1              1              1              1              1              1              1              1              1              1              1              1              1              1              1              1              1              1              1              1              1              1              1              1              1              1              1              1              1              1              1              1              1              1              1              1              1              1              1              1              1              1              1              1              1              1              1              1              1              1              1              1              1              1              1              1              1              1              1              1              1              1              1              1              1              1              1              1              1              1              1              1              1              1              1              1              1              1              1              1              1              1              1              1              1              1              1              1              1              1              1              1              1              1              1              1              1              1              1              1              1              1              1              1              1              1              1              1              1              1              1              1              1              1              1              1              1              1              1              1              1              1              1              1              1              1              1              1              1              1              1              1              1              1              1              1              1              1              1              1              1              1              1              1              1              1              1              1              1              1              1              1              1              1              1              1              1              1              1              1              1              1              1              1              1              1              1              1              1              1              1              1              1              1              1              1              1              1              1              1              1              1              1              1              1              1              1              1              1              1              1              1              1              1              1              1              1              1              1              1              1              1              1              1              1              1              1              1              1              1              1              1              1              1              1              1              1              1              1              1              1              1              1              1              1              1              1              1              1              1              1              1              1              1              1              1              1              1              1              1              1              1              1              1              1 \n",
      "None\n"
     ]
    }
   ],
   "source": [
    "# next, tabulate the entire frequency distribution using fdist.tabulate()\n",
    "print('Frequency Distribution on Personal Advertisements')\n",
    "print(fdist.tabulate())"
   ]
  },
  {
   "cell_type": "code",
   "execution_count": 61,
   "metadata": {},
   "outputs": [
    {
     "data": {
      "image/png": "[encoded data removed]",
      "text/plain": [
       "<Figure size 432x288 with 1 Axes>"
      ]
     },
     "metadata": {
      "needs_background": "light"
     },
     "output_type": "display_data"
    }
   ],
   "source": [
    "# next, plot the graph of frequency distribution with cumulative frequencies using fdist.plot()\n",
    "fdist.plot(cumulative=True)"
   ]
  },
  {
   "cell_type": "markdown",
   "metadata": {},
   "source": [
    "Looking at the frequency distribution plot we can see that most of it does not make any sense. The maximum appearing token count has been generated by comma (',') while when we looked at the top 10 most common tokens we could not make out much about the target dataset.\n",
    "\n",
    "The reason is that we have not applied any preprocessing step (e.g. removal of english stop words) and so on. We will start exploring this in detail in the following chapters."
   ]
  },
  {
   "cell_type": "markdown",
   "metadata": {},
   "source": [
    "# 5. Taking an ambiguous word and explore all its senses using WordNet"
   ]
  },
  {
   "cell_type": "markdown",
   "metadata": {},
   "source": [
    "In this part we will explore what word sense is. The objective here is to choose a word and explore its various senses as understood by WordNet."
   ]
  },
  {
   "cell_type": "code",
   "execution_count": 1,
   "metadata": {},
   "outputs": [],
   "source": [
    "# import required libraries\n",
    "from nltk.corpus import wordnet as wn"
   ]
  },
  {
   "cell_type": "code",
   "execution_count": 3,
   "metadata": {},
   "outputs": [],
   "source": [
    "# take a string english word and assign to a variable\n",
    "chair = 'chair'"
   ]
  },
  {
   "cell_type": "code",
   "execution_count": 9,
   "metadata": {},
   "outputs": [
    {
     "name": "stdout",
     "output_type": "stream",
     "text": [
      "Synsets/Senses of chair:  [Synset('chair.n.01'), Synset('professorship.n.01'), Synset('president.n.04'), Synset('electric_chair.n.01'), Synset('chair.n.05'), Synset('chair.v.01'), Synset('moderate.v.01')] \n",
      "\n"
     ]
    }
   ],
   "source": [
    "# access WordNet API database and fetch all senses associated with the word 'chair'.\n",
    "chair_synsets = wn.synsets(chair)\n",
    "\n",
    "# the following outputs a list of all chair senses\n",
    "print('Synsets/Senses of chair: ', chair_synsets, '\\n')"
   ]
  },
  {
   "cell_type": "code",
   "execution_count": 11,
   "metadata": {},
   "outputs": [
    {
     "name": "stdout",
     "output_type": "stream",
     "text": [
      "Synset('chair.n.01') : \n",
      "Definition:  a seat for one person, with a support for the back\n",
      "Lemmas/Synonymous words:  ['chair']\n",
      "Example:  ['he put his coat over the back of the chair and sat down'] \n",
      "\n",
      "Synset('professorship.n.01') : \n",
      "Definition:  the position of professor\n",
      "Lemmas/Synonymous words:  ['professorship', 'chair']\n",
      "Example:  ['he was awarded an endowed chair in economics'] \n",
      "\n",
      "Synset('president.n.04') : \n",
      "Definition:  the officer who presides at the meetings of an organization\n",
      "Lemmas/Synonymous words:  ['president', 'chairman', 'chairwoman', 'chair', 'chairperson']\n",
      "Example:  ['address your remarks to the chairperson'] \n",
      "\n",
      "Synset('electric_chair.n.01') : \n",
      "Definition:  an instrument of execution by electrocution; resembles an ordinary seat for one person\n",
      "Lemmas/Synonymous words:  ['electric_chair', 'chair', 'death_chair', 'hot_seat']\n",
      "Example:  ['the murderer was sentenced to die in the chair'] \n",
      "\n",
      "Synset('chair.n.05') : \n",
      "Definition:  a particular seat in an orchestra\n",
      "Lemmas/Synonymous words:  ['chair']\n",
      "Example:  ['he is second chair violin'] \n",
      "\n",
      "Synset('chair.v.01') : \n",
      "Definition:  act or preside as chair, as of an academic department in a university\n",
      "Lemmas/Synonymous words:  ['chair', 'chairman']\n",
      "Example:  ['She chaired the department for many years'] \n",
      "\n",
      "Synset('moderate.v.01') : \n",
      "Definition:  preside over\n",
      "Lemmas/Synonymous words:  ['moderate', 'chair', 'lead']\n",
      "Example:  ['John moderated the discussion'] \n",
      "\n"
     ]
    }
   ],
   "source": [
    "# next, we iterate over te list of synsets and perform certain operations\n",
    "for synset in chair_synsets:\n",
    "    print(synset, ': ')\n",
    "    print('Definition: ', synset.definition())\n",
    "    print('Lemmas/Synonymous words: ', synset.lemma_names())\n",
    "    print('Example: ', synset.examples(), '\\n')"
   ]
  },
  {
   "cell_type": "code",
   "execution_count": 12,
   "metadata": {},
   "outputs": [],
   "source": [
    "bat = 'bat'"
   ]
  },
  {
   "cell_type": "code",
   "execution_count": 15,
   "metadata": {},
   "outputs": [],
   "source": [
    "bat_synsets = wn.synsets(bat)"
   ]
  },
  {
   "cell_type": "code",
   "execution_count": 17,
   "metadata": {},
   "outputs": [
    {
     "name": "stdout",
     "output_type": "stream",
     "text": [
      "Synset('bat.n.01') :\n",
      "Definition:  nocturnal mouselike mammal with forelimbs modified to form membranous wings and anatomical adaptations for echolocation by which they navigate\n",
      "Lemma/Synonymous words:  ['bat', 'chiropteran']\n",
      "Example:  [] \n",
      "\n",
      "Synset('bat.n.02') :\n",
      "Definition:  (baseball) a turn trying to get a hit\n",
      "Lemma/Synonymous words:  ['bat', 'at-bat']\n",
      "Example:  ['he was at bat when it happened', 'he got four hits in four at-bats'] \n",
      "\n",
      "Synset('squash_racket.n.01') :\n",
      "Definition:  a small racket with a long handle used for playing squash\n",
      "Lemma/Synonymous words:  ['squash_racket', 'squash_racquet', 'bat']\n",
      "Example:  [] \n",
      "\n",
      "Synset('cricket_bat.n.01') :\n",
      "Definition:  the club used in playing cricket\n",
      "Lemma/Synonymous words:  ['cricket_bat', 'bat']\n",
      "Example:  ['a cricket bat has a narrow handle and a broad flat end for hitting'] \n",
      "\n",
      "Synset('bat.n.05') :\n",
      "Definition:  a club used for hitting a ball in various games\n",
      "Lemma/Synonymous words:  ['bat']\n",
      "Example:  [] \n",
      "\n",
      "Synset('bat.v.01') :\n",
      "Definition:  strike with, or as if with a baseball bat\n",
      "Lemma/Synonymous words:  ['bat']\n",
      "Example:  ['bat the ball'] \n",
      "\n",
      "Synset('bat.v.02') :\n",
      "Definition:  wink briefly\n",
      "Lemma/Synonymous words:  ['bat', 'flutter']\n",
      "Example:  [\"bat one's eyelids\"] \n",
      "\n",
      "Synset('bat.v.03') :\n",
      "Definition:  have a turn at bat\n",
      "Lemma/Synonymous words:  ['bat']\n",
      "Example:  ['Jones bats first, followed by Martinez'] \n",
      "\n",
      "Synset('bat.v.04') :\n",
      "Definition:  use a bat\n",
      "Lemma/Synonymous words:  ['bat']\n",
      "Example:  [\"Who's batting?\"] \n",
      "\n",
      "Synset('cream.v.02') :\n",
      "Definition:  beat thoroughly and conclusively in a competition or fight\n",
      "Lemma/Synonymous words:  ['cream', 'bat', 'clobber', 'drub', 'thrash', 'lick']\n",
      "Example:  ['We licked the other team on Sunday!'] \n",
      "\n"
     ]
    }
   ],
   "source": [
    "for synset in bat_synsets:\n",
    "    print(synset, ':')\n",
    "    print('Definition: ', synset.definition())\n",
    "    print('Lemma/Synonymous words: ', synset.lemma_names())\n",
    "    print('Example: ', synset.examples(), '\\n')"
   ]
  }
 ],
 "metadata": {
  "kernelspec": {
   "display_name": "Python 3",
   "language": "python",
   "name": "python3"
  },
  "language_info": {
   "codemirror_mode": {
    "name": "ipython",
    "version": 3
   },
   "file_extension": ".py",
   "mimetype": "text/x-python",
   "name": "python",
   "nbconvert_exporter": "python",
   "pygments_lexer": "ipython3",
   "version": "3.6.8"
  }
 },
 "nbformat": 4,
 "nbformat_minor": 2
}
