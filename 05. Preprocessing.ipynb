{
 "cells": [
  {
   "cell_type": "markdown",
   "metadata": {},
   "source": [
    "# Preprocessing"
   ]
  },
  {
   "cell_type": "markdown",
   "metadata": {},
   "source": [
    "In this part we will cover the following:\n",
    "- tokenization: learning how to use the inbuilt tokenizers of NLTK\n",
    "- stemming: learning to use the inbuilt stemmers\n",
    "- lemmatization: learning to use the WordnetLemmatizer of NLTK\n",
    "- stopwords: learning to use the stopwords corpus\n",
    "- processing two short stories and extracting the common vocabulary between two of them"
   ]
  },
  {
   "cell_type": "markdown",
   "metadata": {},
   "source": [
    "# Tokenization: learning to use the inbuilt tokenizers of NLTK"
   ]
  },
  {
   "cell_type": "markdown",
   "metadata": {},
   "source": [
    "Tokenization is the process of breaking a document or a long string into words and punctuation marks."
   ]
  },
  {
   "cell_type": "code",
   "execution_count": 1,
   "metadata": {},
   "outputs": [],
   "source": [
    "# import required libraries\n",
    "import nltk\n",
    "from nltk.tokenize import LineTokenizer, SpaceTokenizer, TweetTokenizer\n",
    "from nltk import word_tokenize"
   ]
  },
  {
   "cell_type": "code",
   "execution_count": 24,
   "metadata": {},
   "outputs": [
    {
     "name": "stdout",
     "output_type": "stream",
     "text": [
      "Line tokenizer output:  ['My name is Maximus Decimus Meridius, commander of the Armies of the North, General of the Felix Legions and loyal servant to the true emperor, Marcus Aurelius. ', 'Father to a murdered son, husband to a  murdered wife. ', 'And I will have my vengeance, in this life or the next.']\n"
     ]
    }
   ],
   "source": [
    "# LineTokenizer\n",
    "lTokenizer = LineTokenizer();\n",
    "document = \"\"\" \n",
    "My name is Maximus Decimus Meridius, commander of the Armies of the North, General of the Felix Legions and loyal servant to the true emperor, Marcus Aurelius. \n",
    "\\nFather to a murdered son, husband to a  murdered wife. \\nAnd I will have my vengeance, in this life or the next.\n",
    "\"\"\"\n",
    "print('Line tokenizer output: ', lTokenizer.tokenize(document))\n"
   ]
  },
  {
   "cell_type": "markdown",
   "metadata": {},
   "source": [
    "As we can see LineTokenizer divided the input document into three lines (sentences) on the basis where the newlines are. LineTokenizer simply divides the given input string into new lines."
   ]
  },
  {
   "cell_type": "code",
   "execution_count": 25,
   "metadata": {},
   "outputs": [
    {
     "name": "stdout",
     "output_type": "stream",
     "text": [
      "Space Tokenizer output:  ['By', '11', \"o'clock\", 'on', 'Sunday,', 'the', 'doctor', 'shall', 'open', 'the', 'dispensary.']\n"
     ]
    }
   ],
   "source": [
    "# SpaceTokenizer\n",
    "rawText = \"By 11 o'clock on Sunday, the doctor shall open the dispensary.\"\n",
    "sTokenizer = SpaceTokenizer()\n",
    "print(\"Space Tokenizer output: \", sTokenizer.tokenize(rawText))"
   ]
  },
  {
   "cell_type": "markdown",
   "metadata": {},
   "source": [
    "As we can see we invoke the method tokenize from the class SpaceTokenizer to split our input by space. Our input has been split on the space character \"\". The next one is the word_tokenize() method which broke every word as token."
   ]
  },
  {
   "cell_type": "code",
   "execution_count": 26,
   "metadata": {},
   "outputs": [
    {
     "name": "stdout",
     "output_type": "stream",
     "text": [
      "Word Tokenizer output:  ['By', '11', \"o'clock\", 'on', 'Sunday', ',', 'the', 'doctor', 'shall', 'open', 'the', 'dispensary', '.']\n"
     ]
    }
   ],
   "source": [
    "# word_tokenize\n",
    "print(\"Word Tokenizer output: \", word_tokenize(rawText))"
   ]
  },
  {
   "cell_type": "markdown",
   "metadata": {},
   "source": [
    "The method word_tokenize() has split our input into chuch of words where '.' has been also taken as a chunk."
   ]
  },
  {
   "cell_type": "code",
   "execution_count": 27,
   "metadata": {},
   "outputs": [
    {
     "name": "stdout",
     "output_type": "stream",
     "text": [
      "Tweet Tokenizer output : ['This', 'is', 'a', 'cooool', '#dummysmiley', ':', ':-)', ':-P', '<3']\n"
     ]
    }
   ],
   "source": [
    "# TweetTokenizer\n",
    "tTokenizer = TweetTokenizer()\n",
    "print(\"Tweet Tokenizer output :\", tTokenizer.tokenize(\"This is a cooool #dummysmiley: :-) :-P <3\"))"
   ]
  },
  {
   "cell_type": "markdown",
   "metadata": {},
   "source": [
    "As we can see, the tokenizer kept the hastag word intact and didn't break it; the smiley are also kept intact and are not lost. This tokenizer can be used when application demands it."
   ]
  },
  {
   "cell_type": "markdown",
   "metadata": {},
   "source": [
    "# Stemming: learning to use the inbuilt stemmers of NLTK"
   ]
  },
  {
   "cell_type": "code",
   "execution_count": 28,
   "metadata": {},
   "outputs": [],
   "source": [
    "# import required libraries\n",
    "from nltk import PorterStemmer, LancasterStemmer, word_tokenize"
   ]
  },
  {
   "cell_type": "code",
   "execution_count": 85,
   "metadata": {},
   "outputs": [],
   "source": [
    "# get raw text\n",
    "raw = \"\"\"My name is Maximus Decimus Meridius, commander of the Armies of the North, \n",
    "General of the Felix Legions and loyal servant to the true emperor, Marcus Aurelius. \n",
    "Father to a murdered son, husband to a murdered wife. \n",
    "And I will have my vengeance, in this life or the next.\"\"\""
   ]
  },
  {
   "cell_type": "code",
   "execution_count": 39,
   "metadata": {},
   "outputs": [
    {
     "data": {
      "text/plain": [
       "'My name is Maximus Decimus Meridius, commander of the Armies of the North, General of the Felix Legions and loyal servant to the true emperor, Marcus Aurelius. Father to a murdered son, husband to a murdered wife. \\nAnd I will have my vengeance, in this life or the next.'"
      ]
     },
     "execution_count": 39,
     "metadata": {},
     "output_type": "execute_result"
    }
   ],
   "source": [
    "# print raw text\n",
    "raw"
   ]
  },
  {
   "cell_type": "code",
   "execution_count": 41,
   "metadata": {},
   "outputs": [],
   "source": [
    "# tokenize the text\n",
    "tokens = word_tokenize(raw)"
   ]
  },
  {
   "cell_type": "code",
   "execution_count": 46,
   "metadata": {},
   "outputs": [
    {
     "name": "stdout",
     "output_type": "stream",
     "text": [
      "Pretty printing has been turned OFF\n"
     ]
    }
   ],
   "source": [
    "%pprint"
   ]
  },
  {
   "cell_type": "code",
   "execution_count": 47,
   "metadata": {},
   "outputs": [
    {
     "data": {
      "text/plain": [
       "['My', 'name', 'is', 'Maximus', 'Decimus', 'Meridius', ',', 'commander', 'of', 'the', 'Armies', 'of', 'the', 'North', ',', 'General', 'of', 'the', 'Felix', 'Legions', 'and', 'loyal', 'servant', 'to', 'the', 'true', 'emperor', ',', 'Marcus', 'Aurelius', '.', 'Father', 'to', 'a', 'murdered', 'son', ',', 'husband', 'to', 'a', 'murdered', 'wife', '.', 'And', 'I', 'will', 'have', 'my', 'vengeance', ',', 'in', 'this', 'life', 'or', 'the', 'next', '.']"
      ]
     },
     "execution_count": 47,
     "metadata": {},
     "output_type": "execute_result"
    }
   ],
   "source": [
    "tokens"
   ]
  },
  {
   "cell_type": "code",
   "execution_count": 43,
   "metadata": {},
   "outputs": [],
   "source": [
    "# PorterStemmer\n",
    "porter = PorterStemmer()\n",
    "pStems = [porter.stem(t) for t in tokens]"
   ]
  },
  {
   "cell_type": "code",
   "execution_count": 48,
   "metadata": {},
   "outputs": [
    {
     "data": {
      "text/plain": [
       "['My', 'name', 'is', 'maximu', 'decimu', 'meridiu', ',', 'command', 'of', 'the', 'armi', 'of', 'the', 'north', ',', 'gener', 'of', 'the', 'felix', 'legion', 'and', 'loyal', 'servant', 'to', 'the', 'true', 'emperor', ',', 'marcu', 'aureliu', '.', 'father', 'to', 'a', 'murder', 'son', ',', 'husband', 'to', 'a', 'murder', 'wife', '.', 'and', 'I', 'will', 'have', 'my', 'vengeanc', ',', 'in', 'thi', 'life', 'or', 'the', 'next', '.']"
      ]
     },
     "execution_count": 48,
     "metadata": {},
     "output_type": "execute_result"
    }
   ],
   "source": [
    "# print the stems\n",
    "pStems"
   ]
  },
  {
   "cell_type": "markdown",
   "metadata": {},
   "source": [
    "Looking at the generated list of stems, we can see that all the words have been rid of the trailing 's', 'es', 'e', 'ed', 'al'"
   ]
  },
  {
   "cell_type": "code",
   "execution_count": 49,
   "metadata": {},
   "outputs": [],
   "source": [
    "# LancasterStemmer()\n",
    "lancaster = LancasterStemmer()\n",
    "lStems = [lancaster.stem(t) for t in tokens]"
   ]
  },
  {
   "cell_type": "code",
   "execution_count": 50,
   "metadata": {},
   "outputs": [
    {
     "data": {
      "text/plain": [
       "['my', 'nam', 'is', 'maxim', 'decim', 'meridi', ',', 'command', 'of', 'the', 'army', 'of', 'the', 'nor', ',', 'gen', 'of', 'the', 'felix', 'leg', 'and', 'loy', 'serv', 'to', 'the', 'tru', 'emp', ',', 'marc', 'aureli', '.', 'fath', 'to', 'a', 'murd', 'son', ',', 'husband', 'to', 'a', 'murd', 'wif', '.', 'and', 'i', 'wil', 'hav', 'my', 'veng', ',', 'in', 'thi', 'lif', 'or', 'the', 'next', '.']"
      ]
     },
     "execution_count": 50,
     "metadata": {},
     "output_type": "execute_result"
    }
   ],
   "source": [
    "lStems"
   ]
  },
  {
   "cell_type": "markdown",
   "metadata": {},
   "source": [
    "Looking at the generated list of stems when using LancasterStemmer, we can see that the suffixes that are dropped are bigger than Porter e.g 'us', 'e', 'th', 'eral'"
   ]
  },
  {
   "cell_type": "markdown",
   "metadata": {},
   "source": [
    "The difference is clearly visible where LancasterStemmer is greedier than PorterStemmer when dropping the suffixes. It tries to remove as many characters from the end as possible whereas porter it removes as little as possible.\n"
   ]
  },
  {
   "cell_type": "markdown",
   "metadata": {},
   "source": [
    "# Lemmatization: learning to use the WordNetLemmatizer of NLTK"
   ]
  },
  {
   "cell_type": "code",
   "execution_count": 51,
   "metadata": {},
   "outputs": [],
   "source": [
    "# import required libraries\n",
    "from nltk import word_tokenize, PorterStemmer, WordNetLemmatizer"
   ]
  },
  {
   "cell_type": "code",
   "execution_count": 80,
   "metadata": {},
   "outputs": [],
   "source": [
    "# get input text\n",
    "raw = \"\"\"My name is Maximus Decimus Meridius, commander of the Armies of the North, \n",
    "General of the Felix Legions and loyal servant to the true emperor, Marcus Aurelius. \n",
    "Father to a murdered son, husband to a murdered wife. \n",
    "And I will have my vengeance, in this life or the next.\"\"\""
   ]
  },
  {
   "cell_type": "code",
   "execution_count": 81,
   "metadata": {},
   "outputs": [
    {
     "data": {
      "text/plain": [
       "'My name is Maximus Decimus Meridius, commander of the Armies of the North, \\nGeneral of the Felix Legions and loyal servant to the true emperor, Marcus Aurelius. \\nFather to a murdered son, husband to a murdered wife. \\nAnd I will have my vengeance, in this life or the next.'"
      ]
     },
     "execution_count": 81,
     "metadata": {},
     "output_type": "execute_result"
    }
   ],
   "source": [
    "# print raw text\n",
    "raw"
   ]
  },
  {
   "cell_type": "code",
   "execution_count": 82,
   "metadata": {},
   "outputs": [],
   "source": [
    "# tokenize raw text\n",
    "tokens = word_tokenize(raw)"
   ]
  },
  {
   "cell_type": "code",
   "execution_count": 83,
   "metadata": {},
   "outputs": [
    {
     "data": {
      "text/plain": [
       "['My', 'name', 'is', 'Maximus', 'Decimus', 'Meridius', ',', 'commander', 'of', 'the', 'Armies', 'of', 'the', 'North', ',', 'General', 'of', 'the', 'Felix', 'Legions', 'and', 'loyal', 'servant', 'to', 'the', 'true', 'emperor', ',', 'Marcus', 'Aurelius', '.', 'Father', 'to', 'a', 'murdered', 'son', ',', 'husband', 'to', 'a', 'murdered', 'wife', '.', 'And', 'I', 'will', 'have', 'my', 'vengeance', ',', 'in', 'this', 'life', 'or', 'the', 'next', '.']"
      ]
     },
     "execution_count": 83,
     "metadata": {},
     "output_type": "execute_result"
    }
   ],
   "source": [
    "tokens"
   ]
  },
  {
   "cell_type": "code",
   "execution_count": 84,
   "metadata": {},
   "outputs": [],
   "source": [
    "# next, apply PorterStemmer\n",
    "porter = PorterStemmer()\n",
    "stems = [porter.stem(t) for t in tokens]"
   ]
  },
  {
   "cell_type": "code",
   "execution_count": 58,
   "metadata": {},
   "outputs": [
    {
     "data": {
      "text/plain": [
       "['My', 'name', 'is', 'maximu', 'decimu', 'meridiu', ',', 'command', 'of', 'the', 'armi', 'of', 'the', 'north', ',', 'gener', 'of', 'the', 'felix', 'legion', 'and', 'loyal', 'servant', 'to', 'the', 'true', 'emperor', ',', 'marcu', 'aureliu', '.', 'father', 'to', 'a', 'murder', 'son', ',', 'husband', 'to', 'a', 'murder', 'wife', '.', 'and', 'I', 'will', 'have', 'my', 'vengeanc', ',', 'in', 'thi', 'life', 'or', 'the', 'next', '.']"
      ]
     },
     "execution_count": 58,
     "metadata": {},
     "output_type": "execute_result"
    }
   ],
   "source": [
    "# print all stems\n",
    "stems"
   ]
  },
  {
   "cell_type": "code",
   "execution_count": 59,
   "metadata": {},
   "outputs": [],
   "source": [
    "# next, apply the lemmatizer\n",
    "lemmatizer = WordNetLemmatizer()\n",
    "lemmas = [lemmatizer.lemmatize(t) for t in tokens]"
   ]
  },
  {
   "cell_type": "code",
   "execution_count": 60,
   "metadata": {},
   "outputs": [
    {
     "data": {
      "text/plain": [
       "['My', 'name', 'is', 'Maximus', 'Decimus', 'Meridius', ',', 'commander', 'of', 'the', 'Armies', 'of', 'the', 'North', ',', 'General', 'of', 'the', 'Felix', 'Legions', 'and', 'loyal', 'servant', 'to', 'the', 'true', 'emperor', ',', 'Marcus', 'Aurelius', '.', 'Father', 'to', 'a', 'murdered', 'son', ',', 'husband', 'to', 'a', 'murdered', 'wife', '.', 'And', 'I', 'will', 'have', 'my', 'vengeance', ',', 'in', 'this', 'life', 'or', 'the', 'next', '.']"
      ]
     },
     "execution_count": 60,
     "metadata": {},
     "output_type": "execute_result"
    }
   ],
   "source": [
    "# print all lemmas\n",
    "lemmas"
   ]
  },
  {
   "cell_type": "markdown",
   "metadata": {},
   "source": [
    "# Stopwords: learning to use the stopwords corpus"
   ]
  },
  {
   "cell_type": "code",
   "execution_count": 61,
   "metadata": {},
   "outputs": [
    {
     "name": "stdout",
     "output_type": "stream",
     "text": [
      "['austen-emma.txt', 'austen-persuasion.txt', 'austen-sense.txt', 'bible-kjv.txt', 'blake-poems.txt', 'bryant-stories.txt', 'burgess-busterbrown.txt', 'carroll-alice.txt', 'chesterton-ball.txt', 'chesterton-brown.txt', 'chesterton-thursday.txt', 'edgeworth-parents.txt', 'melville-moby_dick.txt', 'milton-paradise.txt', 'shakespeare-caesar.txt', 'shakespeare-hamlet.txt', 'shakespeare-macbeth.txt', 'whitman-leaves.txt']\n"
     ]
    }
   ],
   "source": [
    "# import required libraries\n",
    "import nltk\n",
    "from nltk.corpus import gutenberg\n",
    "print(gutenberg.fileids())"
   ]
  },
  {
   "cell_type": "code",
   "execution_count": 62,
   "metadata": {},
   "outputs": [],
   "source": [
    "# get the list of words from 'bible-kjv.txt'\n",
    "gb_words = gutenberg.words('bible-kjv.txt')"
   ]
  },
  {
   "cell_type": "code",
   "execution_count": 63,
   "metadata": {},
   "outputs": [
    {
     "data": {
      "text/plain": [
       "['[', 'The', 'King', 'James', 'Bible', ']', 'The', ...]"
      ]
     },
     "execution_count": 63,
     "metadata": {},
     "output_type": "execute_result"
    }
   ],
   "source": [
    "gb_words"
   ]
  },
  {
   "cell_type": "code",
   "execution_count": 64,
   "metadata": {},
   "outputs": [
    {
     "data": {
      "text/plain": [
       "1010654"
      ]
     },
     "execution_count": 64,
     "metadata": {},
     "output_type": "execute_result"
    }
   ],
   "source": [
    "len(gb_words)"
   ]
  },
  {
   "cell_type": "code",
   "execution_count": 70,
   "metadata": {},
   "outputs": [],
   "source": [
    "# filter out all words than have less than 3 characters\n",
    "words_filtered = [e for e in gb_words if len(e) >= 3]"
   ]
  },
  {
   "cell_type": "code",
   "execution_count": 71,
   "metadata": {},
   "outputs": [
    {
     "data": {
      "text/plain": [
       "['The', 'King', 'James', 'Bible', 'The', 'Old', 'Testament', 'the', 'King', 'James', 'Bible', 'The', 'First', 'Book', 'Moses', 'Called', 'Genesis', 'the', 'beginning', 'God', 'created', 'the', 'heaven', 'and', 'the', 'earth', 'And', 'the', 'earth', 'was', 'without', 'form', 'and', 'void', 'and', 'darkness', 'was', 'upon', 'the', 'face', 'the', 'deep', 'And', 'the', 'Spirit', 'God', 'moved', 'upon', 'the', 'face']"
      ]
     },
     "execution_count": 71,
     "metadata": {},
     "output_type": "execute_result"
    }
   ],
   "source": [
    "words_filtered[:50]"
   ]
  },
  {
   "cell_type": "code",
   "execution_count": 72,
   "metadata": {},
   "outputs": [],
   "source": [
    "# create list of stopwords\n",
    "stopwords = nltk.corpus.stopwords.words('english')\n",
    "words = [w for w in words_filtered if w.lower() not in stopwords]"
   ]
  },
  {
   "cell_type": "code",
   "execution_count": 73,
   "metadata": {},
   "outputs": [],
   "source": [
    "# apply frequency distribution to the list of filtered_words without stopwords\n",
    "fdistPlain = nltk.FreqDist(words)\n",
    "# apply frequency distribution to the list of words from 'bible-kvj.txt' from gutenberg corpus\n",
    "fdist = nltk.FreqDist(gb_words)"
   ]
  },
  {
   "cell_type": "code",
   "execution_count": 74,
   "metadata": {},
   "outputs": [
    {
     "name": "stdout",
     "output_type": "stream",
     "text": [
      "Following are the most common 10 words\n",
      "[('shall', 9760), ('unto', 8940), ('LORD', 6651), ('thou', 4890), ('thy', 4450), ('God', 4115), ('said', 3995), ('thee', 3827), ('upon', 2730), ('man', 2721)]\n",
      "Following are the most common 10 words minus stopwords\n",
      "[(',', 70509), ('the', 62103), (':', 43766), ('and', 38847), ('of', 34480), ('.', 26160), ('to', 13396), ('And', 12846), ('that', 12576), ('in', 12331)]\n"
     ]
    }
   ],
   "source": [
    "# check frequency distribution\n",
    "print('Following are the most common 10 words')\n",
    "print(fdistPlain.most_common(10))\n",
    "print('Following are the most common 10 words minus stopwords')\n",
    "print(fdist.most_common(10))"
   ]
  },
  {
   "cell_type": "markdown",
   "metadata": {},
   "source": [
    "# Processing two short stories and extracting the common vocabulary between two of them"
   ]
  },
  {
   "cell_type": "markdown",
   "metadata": {},
   "source": [
    "In this part we will work on a simple exercise where we will remove all special characters, splitting words, doing case folds, and some list operations"
   ]
  },
  {
   "cell_type": "code",
   "execution_count": 76,
   "metadata": {},
   "outputs": [],
   "source": [
    "story1 = \"\"\"In a far away kingdom, there was a river. This river\n",
    "was home to many golden swans. The swans spent most of their time\n",
    "on the banks of the river. Every six months, the swans would leave\n",
    "a golden feather as a fee for using the lake. The soldiers of the\n",
    "kingdom would collect the feathers and deposit them in the royal\n",
    "treasury.\n",
    "One day, a homeless bird saw the river. \"The water in this river\n",
    "seems so cool and soothing. I will make my home here,\" thought the\n",
    "bird.\n",
    "As soon as the bird settled down near the river, the golden swans\n",
    "noticed her. They came shouting. \"This river belongs to us. We pay\n",
    "a golden feather to the King to use this river. You can not live\n",
    "here.\"\n",
    "\"I am homeless, brothers. I too will pay the rent. Please give me\n",
    "shelter,\" the bird pleaded. \"How will you pay the rent? You do not\n",
    "have golden feathers,\" said the swans laughing. They further added,\n",
    "\"Stop dreaming and leave once.\" The humble bird pleaded many times.\n",
    "But the arrogant swans drove the bird away.\n",
    "\"I will teach them a lesson!\" decided the humiliated bird.\n",
    "She went to the King and said, \"O King! The swans in your river are\n",
    "impolite and unkind. I begged for shelter but they said that they\n",
    "had purchased the river with golden feathers.\"\n",
    "The King was angry with the arrogant swans for having insulted the\n",
    "homeless bird. He ordered his soldiers to bring the arrogant swans\n",
    "to his court. In no time, all the golden swans were brought to the\n",
    "King’s court.\n",
    "\"Do you think the royal treasury depends upon your golden feathers?\n",
    "You can not decide who lives by the river. Leave the river at once\n",
    "or you all will be beheaded!\" shouted the King.\n",
    "The swans shivered with fear on hearing the King. They flew away\n",
    "never to return. The bird built her home near the river and lived\n",
    "there happily forever. The bird gave shelter to all other birds in\n",
    "the river. \"\"\""
   ]
  },
  {
   "cell_type": "code",
   "execution_count": 77,
   "metadata": {},
   "outputs": [
    {
     "data": {
      "text/plain": [
       "'In a far away kingdom, there was a river. This river\\nwas home to many golden swans. The swans spent most of their time\\non the banks of the river. Every six months, the swans would leave\\na golden feather as a fee for using the lake. The soldiers of the\\nkingdom would collect the feathers and deposit them in the royal\\ntreasury.\\nOne day, a homeless bird saw the river. \"The water in this river\\nseems so cool and soothing. I will make my home here,\" thought the\\nbird.\\nAs soon as the bird settled down near the river, the golden swans\\nnoticed her. They came shouting. \"This river belongs to us. We pay\\na golden feather to the King to use this river. You can not live\\nhere.\"\\n\"I am homeless, brothers. I too will pay the rent. Please give me\\nshelter,\" the bird pleaded. \"How will you pay the rent? You do not\\nhave golden feathers,\" said the swans laughing. They further added,\\n\"Stop dreaming and leave once.\" The humble bird pleaded many times.\\nBut the arrogant swans drove the bird away.\\n\"I will teach them a lesson!\" decided the humiliated bird.\\nShe went to the King and said, \"O King! The swans in your river are\\nimpolite and unkind. I begged for shelter but they said that they\\nhad purchased the river with golden feathers.\"\\nThe King was angry with the arrogant swans for having insulted the\\nhomeless bird. He ordered his soldiers to bring the arrogant swans\\nto his court. In no time, all the golden swans were brought to the\\nKing’s court.\\n\"Do you think the royal treasury depends upon your golden feathers?\\nYou can not decide who lives by the river. Leave the river at once\\nor you all will be beheaded!\" shouted the King.\\nThe swans shivered with fear on hearing the King. They flew away\\nnever to return. The bird built her home near the river and lived\\nthere happily forever. The bird gave shelter to all other birds in\\nthe river. '"
      ]
     },
     "execution_count": 77,
     "metadata": {},
     "output_type": "execute_result"
    }
   ],
   "source": [
    "story1"
   ]
  },
  {
   "cell_type": "code",
   "execution_count": 78,
   "metadata": {},
   "outputs": [],
   "source": [
    "story2 = \"\"\"Long time ago, there lived a King. He was lazy and\n",
    "liked all the comforts of life. He never carried out his duties as\n",
    "a King. “Our King does not take care of our needs. He also ignores\n",
    "the affairs of his kingdom.\" The people complained.\n",
    "One day, the King went into the forest to hunt. After having\n",
    "wandered for quite sometime, he became thirsty. To his relief, he\n",
    "spotted a lake. As he was drinking water, he suddenly saw a golden\n",
    "swan come out of the lake and perch on a stone. “Oh! A golden swan.\n",
    "I must capture it,\" thought the King.\n",
    "But as soon as he held his bow up, the swan disappeared. And the\n",
    "King heard a voice, “I am the Golden Swan. If you want to capture\n",
    "me, you must come to heaven.\"\n",
    "Surprised, the King said, “Please show me the way to heaven.\" “Do\n",
    "good deeds, serve your people and the messenger from heaven would\n",
    "come to fetch you to heaven,\" replied the voice.\n",
    "The selfish King, eager to capture the Swan, tried doing some good\n",
    "deeds in his Kingdom. “Now, I suppose a messenger will come to take\n",
    "me to heaven,\" he thought. But, no messenger came.\n",
    "The King then disguised himself and went out into the street. There\n",
    "he tried helping an old man. But the old man became angry and said,\n",
    "“You need not try to help. I am in this miserable state because of\n",
    "out selfish King. He has done nothing for his people.\"\n",
    "Suddenly, the King heard the golden swan’s voice, “Do good deeds and\n",
    "you will come to heaven.\" It dawned on the King that by doing\n",
    "selfish acts, he will not go to heaven.\n",
    "He realized that his people needed him and carrying out his duties\n",
    "was the only way to heaven. After that day he became a responsible\n",
    "King.\n",
    "\"\"\""
   ]
  },
  {
   "cell_type": "code",
   "execution_count": 79,
   "metadata": {},
   "outputs": [
    {
     "data": {
      "text/plain": [
       "'Long time ago, there lived a King. He was lazy and\\nliked all the comforts of life. He never carried out his duties as\\na King. “Our King does not take care of our needs. He also ignores\\nthe affairs of his kingdom.\" The people complained.\\nOne day, the King went into the forest to hunt. After having\\nwandered for quite sometime, he became thirsty. To his relief, he\\nspotted a lake. As he was drinking water, he suddenly saw a golden\\nswan come out of the lake and perch on a stone. “Oh! A golden swan.\\nI must capture it,\" thought the King.\\nBut as soon as he held his bow up, the swan disappeared. And the\\nKing heard a voice, “I am the Golden Swan. If you want to capture\\nme, you must come to heaven.\"\\nSurprised, the King said, “Please show me the way to heaven.\" “Do\\ngood deeds, serve your people and the messenger from heaven would\\ncome to fetch you to heaven,\" replied the voice.\\nThe selfish King, eager to capture the Swan, tried doing some good\\ndeeds in his Kingdom. “Now, I suppose a messenger will come to take\\nme to heaven,\" he thought. But, no messenger came.\\nThe King then disguised himself and went out into the street. There\\nhe tried helping an old man. But the old man became angry and said,\\n“You need not try to help. I am in this miserable state because of\\nout selfish King. He has done nothing for his people.\"\\nSuddenly, the King heard the golden swan’s voice, “Do good deeds and\\nyou will come to heaven.\" It dawned on the King that by doing\\nselfish acts, he will not go to heaven.\\nHe realized that his people needed him and carrying out his duties\\nwas the only way to heaven. After that day he became a responsible\\nKing.\\n'"
      ]
     },
     "execution_count": 79,
     "metadata": {},
     "output_type": "execute_result"
    }
   ],
   "source": [
    "story2"
   ]
  },
  {
   "cell_type": "code",
   "execution_count": 90,
   "metadata": {},
   "outputs": [],
   "source": [
    "# (1) remove special characters in the text (e.g newlines, commas, full stops, excalamtions, question marks etc)\n",
    "story1 = story1.replace(\",\", \"\").replace(\"\\n\", \"\").replace('.', '').replace('\"', '').replace(\"!\", \"\").replace(\"?\",\"\").casefold()"
   ]
  },
  {
   "cell_type": "code",
   "execution_count": 91,
   "metadata": {},
   "outputs": [],
   "source": [
    "story2 = story2.replace(\",\", \"\").replace(\"\\n\", \"\").replace('.', '').replace('\"', '').replace(\"!\", \"\").replace(\"?\", \"\").casefold()"
   ]
  },
  {
   "cell_type": "code",
   "execution_count": 93,
   "metadata": {},
   "outputs": [
    {
     "data": {
      "text/plain": [
       "'in a far away kingdom there was a river this riverwas home to many golden swans the swans spent most of their timeon the banks of the river every six months the swans would leavea golden feather as a fee for using the lake the soldiers of thekingdom would collect the feathers and deposit them in the royaltreasuryone day a homeless bird saw the river the water in this riverseems so cool and soothing i will make my home here thought thebirdas soon as the bird settled down near the river the golden swansnoticed her they came shouting this river belongs to us we paya golden feather to the king to use this river you can not liveherei am homeless brothers i too will pay the rent please give meshelter the bird pleaded how will you pay the rent you do nothave golden feathers said the swans laughing they further addedstop dreaming and leave once the humble bird pleaded many timesbut the arrogant swans drove the bird awayi will teach them a lesson decided the humiliated birdshe went to the king and said o king the swans in your river areimpolite and unkind i begged for shelter but they said that theyhad purchased the river with golden feathersthe king was angry with the arrogant swans for having insulted thehomeless bird he ordered his soldiers to bring the arrogant swansto his court in no time all the golden swans were brought to theking’s courtdo you think the royal treasury depends upon your golden feathersyou can not decide who lives by the river leave the river at onceor you all will be beheaded shouted the kingthe swans shivered with fear on hearing the king they flew awaynever to return the bird built her home near the river and livedthere happily forever the bird gave shelter to all other birds inthe river '"
      ]
     },
     "execution_count": 93,
     "metadata": {},
     "output_type": "execute_result"
    }
   ],
   "source": [
    "# check for the last change story1\n",
    "story1"
   ]
  },
  {
   "cell_type": "code",
   "execution_count": 94,
   "metadata": {},
   "outputs": [
    {
     "data": {
      "text/plain": [
       "'long time ago there lived a king he was lazy andliked all the comforts of life he never carried out his duties asa king “our king does not take care of our needs he also ignoresthe affairs of his kingdom the people complainedone day the king went into the forest to hunt after havingwandered for quite sometime he became thirsty to his relief hespotted a lake as he was drinking water he suddenly saw a goldenswan come out of the lake and perch on a stone “oh a golden swani must capture it thought the kingbut as soon as he held his bow up the swan disappeared and theking heard a voice “i am the golden swan if you want to captureme you must come to heavensurprised the king said “please show me the way to heaven “dogood deeds serve your people and the messenger from heaven wouldcome to fetch you to heaven replied the voicethe selfish king eager to capture the swan tried doing some gooddeeds in his kingdom “now i suppose a messenger will come to takeme to heaven he thought but no messenger camethe king then disguised himself and went out into the street therehe tried helping an old man but the old man became angry and said“you need not try to help i am in this miserable state because ofout selfish king he has done nothing for his peoplesuddenly the king heard the golden swan’s voice “do good deeds andyou will come to heaven it dawned on the king that by doingselfish acts he will not go to heavenhe realized that his people needed him and carrying out his dutieswas the only way to heaven after that day he became a responsibleking'"
      ]
     },
     "execution_count": 94,
     "metadata": {},
     "output_type": "execute_result"
    }
   ],
   "source": [
    "# check for the last change story2\n",
    "story2"
   ]
  },
  {
   "cell_type": "code",
   "execution_count": 95,
   "metadata": {},
   "outputs": [
    {
     "name": "stdout",
     "output_type": "stream",
     "text": [
      "First story words:  ['in', 'a', 'far', 'away', 'kingdom', 'there', 'was', 'a', 'river', 'this', 'riverwas', 'home', 'to', 'many', 'golden', 'swans', 'the', 'swans', 'spent', 'most', 'of', 'their', 'timeon', 'the', 'banks', 'of', 'the', 'river', 'every', 'six', 'months', 'the', 'swans', 'would', 'leavea', 'golden', 'feather', 'as', 'a', 'fee', 'for', 'using', 'the', 'lake', 'the', 'soldiers', 'of', 'thekingdom', 'would', 'collect', 'the', 'feathers', 'and', 'deposit', 'them', 'in', 'the', 'royaltreasuryone', 'day', 'a', 'homeless', 'bird', 'saw', 'the', 'river', 'the', 'water', 'in', 'this', 'riverseems', 'so', 'cool', 'and', 'soothing', 'i', 'will', 'make', 'my', 'home', 'here', 'thought', 'thebirdas', 'soon', 'as', 'the', 'bird', 'settled', 'down', 'near', 'the', 'river', 'the', 'golden', 'swansnoticed', 'her', 'they', 'came', 'shouting', 'this', 'river', 'belongs', 'to', 'us', 'we', 'paya', 'golden', 'feather', 'to', 'the', 'king', 'to', 'use', 'this', 'river', 'you', 'can', 'not', 'liveherei', 'am', 'homeless', 'brothers', 'i', 'too', 'will', 'pay', 'the', 'rent', 'please', 'give', 'meshelter', 'the', 'bird', 'pleaded', 'how', 'will', 'you', 'pay', 'the', 'rent', 'you', 'do', 'nothave', 'golden', 'feathers', 'said', 'the', 'swans', 'laughing', 'they', 'further', 'addedstop', 'dreaming', 'and', 'leave', 'once', 'the', 'humble', 'bird', 'pleaded', 'many', 'timesbut', 'the', 'arrogant', 'swans', 'drove', 'the', 'bird', 'awayi', 'will', 'teach', 'them', 'a', 'lesson', 'decided', 'the', 'humiliated', 'birdshe', 'went', 'to', 'the', 'king', 'and', 'said', 'o', 'king', 'the', 'swans', 'in', 'your', 'river', 'areimpolite', 'and', 'unkind', 'i', 'begged', 'for', 'shelter', 'but', 'they', 'said', 'that', 'theyhad', 'purchased', 'the', 'river', 'with', 'golden', 'feathersthe', 'king', 'was', 'angry', 'with', 'the', 'arrogant', 'swans', 'for', 'having', 'insulted', 'thehomeless', 'bird', 'he', 'ordered', 'his', 'soldiers', 'to', 'bring', 'the', 'arrogant', 'swansto', 'his', 'court', 'in', 'no', 'time', 'all', 'the', 'golden', 'swans', 'were', 'brought', 'to', 'theking’s', 'courtdo', 'you', 'think', 'the', 'royal', 'treasury', 'depends', 'upon', 'your', 'golden', 'feathersyou', 'can', 'not', 'decide', 'who', 'lives', 'by', 'the', 'river', 'leave', 'the', 'river', 'at', 'onceor', 'you', 'all', 'will', 'be', 'beheaded', 'shouted', 'the', 'kingthe', 'swans', 'shivered', 'with', 'fear', 'on', 'hearing', 'the', 'king', 'they', 'flew', 'awaynever', 'to', 'return', 'the', 'bird', 'built', 'her', 'home', 'near', 'the', 'river', 'and', 'livedthere', 'happily', 'forever', 'the', 'bird', 'gave', 'shelter', 'to', 'all', 'other', 'birds', 'inthe', 'river', '']\n"
     ]
    }
   ],
   "source": [
    "# next, we split the texts in words (tokens)\n",
    "story1_words = story1.split(\" \")\n",
    "print(\"First story words: \", story1_words)"
   ]
  },
  {
   "cell_type": "code",
   "execution_count": 96,
   "metadata": {},
   "outputs": [
    {
     "name": "stdout",
     "output_type": "stream",
     "text": [
      "Second story words:  ['long', 'time', 'ago', 'there', 'lived', 'a', 'king', 'he', 'was', 'lazy', 'andliked', 'all', 'the', 'comforts', 'of', 'life', 'he', 'never', 'carried', 'out', 'his', 'duties', 'asa', 'king', '“our', 'king', 'does', 'not', 'take', 'care', 'of', 'our', 'needs', 'he', 'also', 'ignoresthe', 'affairs', 'of', 'his', 'kingdom', 'the', 'people', 'complainedone', 'day', 'the', 'king', 'went', 'into', 'the', 'forest', 'to', 'hunt', 'after', 'havingwandered', 'for', 'quite', 'sometime', 'he', 'became', 'thirsty', 'to', 'his', 'relief', 'hespotted', 'a', 'lake', 'as', 'he', 'was', 'drinking', 'water', 'he', 'suddenly', 'saw', 'a', 'goldenswan', 'come', 'out', 'of', 'the', 'lake', 'and', 'perch', 'on', 'a', 'stone', '“oh', 'a', 'golden', 'swani', 'must', 'capture', 'it', 'thought', 'the', 'kingbut', 'as', 'soon', 'as', 'he', 'held', 'his', 'bow', 'up', 'the', 'swan', 'disappeared', 'and', 'theking', 'heard', 'a', 'voice', '“i', 'am', 'the', 'golden', 'swan', 'if', 'you', 'want', 'to', 'captureme', 'you', 'must', 'come', 'to', 'heavensurprised', 'the', 'king', 'said', '“please', 'show', 'me', 'the', 'way', 'to', 'heaven', '“dogood', 'deeds', 'serve', 'your', 'people', 'and', 'the', 'messenger', 'from', 'heaven', 'wouldcome', 'to', 'fetch', 'you', 'to', 'heaven', 'replied', 'the', 'voicethe', 'selfish', 'king', 'eager', 'to', 'capture', 'the', 'swan', 'tried', 'doing', 'some', 'gooddeeds', 'in', 'his', 'kingdom', '“now', 'i', 'suppose', 'a', 'messenger', 'will', 'come', 'to', 'takeme', 'to', 'heaven', 'he', 'thought', 'but', 'no', 'messenger', 'camethe', 'king', 'then', 'disguised', 'himself', 'and', 'went', 'out', 'into', 'the', 'street', 'therehe', 'tried', 'helping', 'an', 'old', 'man', 'but', 'the', 'old', 'man', 'became', 'angry', 'and', 'said“you', 'need', 'not', 'try', 'to', 'help', 'i', 'am', 'in', 'this', 'miserable', 'state', 'because', 'ofout', 'selfish', 'king', 'he', 'has', 'done', 'nothing', 'for', 'his', 'peoplesuddenly', 'the', 'king', 'heard', 'the', 'golden', 'swan’s', 'voice', '“do', 'good', 'deeds', 'andyou', 'will', 'come', 'to', 'heaven', 'it', 'dawned', 'on', 'the', 'king', 'that', 'by', 'doingselfish', 'acts', 'he', 'will', 'not', 'go', 'to', 'heavenhe', 'realized', 'that', 'his', 'people', 'needed', 'him', 'and', 'carrying', 'out', 'his', 'dutieswas', 'the', 'only', 'way', 'to', 'heaven', 'after', 'that', 'day', 'he', 'became', 'a', 'responsibleking']\n"
     ]
    }
   ],
   "source": [
    "story2_words = story2.split(\" \")\n",
    "print(\"Second story words: \", story2_words)"
   ]
  },
  {
   "cell_type": "markdown",
   "metadata": {},
   "source": [
    "As we can see, all the special characters are gone and a list of words has been created."
   ]
  },
  {
   "cell_type": "code",
   "execution_count": 97,
   "metadata": {},
   "outputs": [
    {
     "name": "stdout",
     "output_type": "stream",
     "text": [
      "First story vocabulary:  {'', 'by', 'think', 'shelter', 'fee', 'for', 'them', 'were', 'swans', 'went', 'riverwas', 'soothing', 'o', 'will', 'lives', 'feathers', 'beheaded', 'paya', 'areimpolite', 'kingthe', 'upon', 'water', 'arrogant', 'soldiers', 'once', 'i', 'return', 'at', 'their', 'shivered', 'came', 'how', 'angry', 'happily', 'deposit', 'nothave', 'leavea', 'this', 'settled', 'shouted', 'give', 'away', 'every', 'royal', 'use', 'months', 'thought', 'insulted', 'hearing', 'they', 'said', 'purchased', 'theyhad', 'all', 'my', 'of', 'his', 'brought', 'no', 'treasury', 'brothers', 'dreaming', 'here', 'swansnoticed', 'be', 'king', 'timeon', 'swansto', 'kingdom', 'your', 'day', 'court', 'and', 'but', 'lesson', 'soon', 'spent', 'lake', 'thehomeless', 'depends', 'feathersthe', 'awayi', 'homeless', 'as', 'please', 'on', 'feather', 'banks', 'begged', 'saw', 'humiliated', 'cool', 'built', 'would', 'time', 'other', 'gave', 'birdshe', 'pleaded', 'river', 'down', 'onceor', 'shouting', 'am', 'bird', 'drove', 'rent', 'to', 'he', 'awaynever', 'inthe', 'courtdo', 'feathersyou', 'humble', 'too', 'most', 'meshelter', 'bring', 'her', 'having', 'home', 'decided', 'a', 'belongs', 'was', 'who', 'many', 'golden', 'make', 'collect', 'not', 'laughing', 'using', 'us', 'you', 'timesbut', 'theking’s', 'livedthere', 'thekingdom', 'so', 'do', 'unkind', 'far', 'near', 'royaltreasuryone', 'six', 'ordered', 'there', 'birds', 'fear', 'addedstop', 'further', 'pay', 'can', 'with', 'liveherei', 'leave', 'teach', 'riverseems', 'flew', 'the', 'that', 'in', 'thebirdas', 'decide', 'forever', 'we'}\n"
     ]
    }
   ],
   "source": [
    "# next, create vocabulary out of this list of words without repeats\n",
    "story1_vocab = set(story1_words)\n",
    "print(\"First story vocabulary: \", story1_vocab)"
   ]
  },
  {
   "cell_type": "code",
   "execution_count": 98,
   "metadata": {},
   "outputs": [
    {
     "name": "stdout",
     "output_type": "stream",
     "text": [
      "Second story vocabulary:  {'goldenswan', 'life', 'needs', 'by', 'for', 'doingselfish', 'sometime', 'if', 'selfish', 'miserable', 'went', '“dogood', 'man', 'does', 'captureme', 'will', 'perch', 'care', 'go', 'water', 'deeds', 'fetch', '“please', 'take', 'i', 'good', 'need', 'after', 'carrying', 'voice', 'angry', 'realized', 'wouldcome', 'because', 'this', 'serve', 'way', 'come', 'disguised', 'helping', 'needed', 'dawned', 'quite', 'thought', 'forest', 'up', 'try', 'relief', 'said', 'want', 'eager', 'all', 'state', 'of', 'his', 'long', 'no', 'comforts', 'swani', 'people', 'king', 'havingwandered', 'kingdom', 'your', 'day', 'old', '“now', 'asa', 'and', 'but', 'me', 'heavensurprised', 'stone', 'soon', 'lake', 'voicethe', 'heavenhe', '“our', 'peoplesuddenly', 'kingbut', 'heard', 'duties', 'andyou', 'swan’s', 'carried', 'responsibleking', 'held', 'as', 'on', 'messenger', 'affairs', 'thirsty', 'saw', 'street', 'into', 'complainedone', 'acts', 'also', 'an', 'time', 'andliked', 'takeme', 'am', 'to', 'he', 'help', 'nothing', 'himself', 'doing', 'lived', '“i', 'said“you', 'heaven', 'from', 'hespotted', 'show', '“do', 'a', 'was', 'never', 'our', 'has', 'golden', '“oh', 'tried', 'dutieswas', 'not', 'swan', 'you', 'out', 'then', 'replied', 'suppose', 'therehe', 'suddenly', 'ago', 'disappeared', 'ignoresthe', 'drinking', 'gooddeeds', 'theking', 'him', 'there', 'hunt', 'became', 'some', 'ofout', 'bow', 'done', 'it', 'only', 'capture', 'must', 'the', 'that', 'camethe', 'in', 'lazy'}\n"
     ]
    }
   ],
   "source": [
    "story2_vocab = set(story2_words)\n",
    "print(\"Second story vocabulary: \", story2_vocab)"
   ]
  },
  {
   "cell_type": "markdown",
   "metadata": {},
   "source": [
    "Calling Python set() function on our list of words, we are deduplicating the list and convert it into a set."
   ]
  },
  {
   "cell_type": "code",
   "execution_count": 99,
   "metadata": {},
   "outputs": [
    {
     "name": "stdout",
     "output_type": "stream",
     "text": [
      "Common vocabulary:  {'a', 'by', 'was', 'thought', 'as', 'for', 'on', 'golden', 'saw', 'not', 'went', 'said', 'will', 'all', 'you', 'of', 'his', 'time', 'water', 'no', 'i', 'king', 'there', 'am', 'kingdom', 'your', 'to', 'he', 'day', 'angry', 'and', 'but', 'this', 'soon', 'lake', 'the', 'that', 'in'}\n"
     ]
    }
   ],
   "source": [
    "# next, produce the common vocabulary between the 2 stories\n",
    "common_vocab = story1_vocab & story2_vocab\n",
    "print(\"Common vocabulary: \", common_vocab)"
   ]
  }
 ],
 "metadata": {
  "kernelspec": {
   "display_name": "Python 3",
   "language": "python",
   "name": "python3"
  },
  "language_info": {
   "codemirror_mode": {
    "name": "ipython",
    "version": 3
   },
   "file_extension": ".py",
   "mimetype": "text/x-python",
   "name": "python",
   "nbconvert_exporter": "python",
   "pygments_lexer": "ipython3",
   "version": "3.6.8"
  }
 },
 "nbformat": 4,
 "nbformat_minor": 2
}
